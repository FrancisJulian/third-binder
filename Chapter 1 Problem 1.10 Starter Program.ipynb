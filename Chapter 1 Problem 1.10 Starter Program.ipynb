{
 "cells": [
  {
   "cell_type": "markdown",
   "metadata": {},
   "source": [
    "## Chapter 1 Problem 1.10: Starter Program\n",
    "### Hexamethlbenzene $C_{12}H_{18}$ Unit Cell \n",
    "\n",
    "#### From: M. Julian, [*Foundations of Crystallography with Computer Applications Third Edition*](https://www.crcpress.com/Foundations-of-Crystallography-with-Computer-Applications/Julian/p/book/9781466552913). CRC Press, Taylor & Francis, Boca Raton\n",
    "\n",
    "#### References\n",
    " - See *Chapter 1 Problem 1.09 Starter Program* for installation of Python, Jupyter, Numpy, and Matplotlib\n",
    " - See Python hints at the end of this notebook\n",
    "\n",
    "\n",
    "#### To the student\n",
    "\n",
    "After you have completed problem 1.09, the next exercise is to produce a 3D unit cell.\n",
    "1. 'Run all' under Cell menu.\n",
    "2. Do the program section by section.\n",
    "3. At the end of each section that you need to change, there is a print statement which will allow you to check at how well you are doing.\n",
    "4. Run the section and do the print.  Get help if it does not work\n",
    "5. Don't worry about errors as long as you get past the current active print statement.\n",
    "6. Follow the indents exactly.  The number of indented spaces is an important feature of Python.\n",
    "7. For the c3 variable, use the absolute value:  c3 = abs(etc)"
   ]
  },
  {
   "cell_type": "code",
   "execution_count": null,
   "metadata": {},
   "outputs": [],
   "source": [
    "import numpy as np \n",
    "import matplotlib.pyplot as plt  \n",
    "from mpl_toolkits.mplot3d import axis3d\n",
    "np.set_printoptions(precision=4, suppress=True) # suppress means numbers close to zero printed as zero \n",
    "%matplotlib notebook\n"
   ]
  },
  {
   "cell_type": "code",
   "execution_count": null,
   "metadata": {},
   "outputs": [],
   "source": [
    "# Student: Bring to three dimensions and print out a, b, c, alpha, beta, gamma\n",
    "a = 9.010               # Crystallographic a axis (Å, angstroms)\n",
    "b = 8.926               # Crystallographic b axis (Å, angstroms)\n",
    "gamma = 119 + 34/60     # Angle between a and b  (degrees)\n",
    "\n",
    "# f\"a string {variable}\" prints formatted text with variables inside curly braces {}\n",
    "# : 8.3f  space means left padded with space, 8 characters total width (including .), 3 decimals after periods\n",
    "print(f\"a     = {a: 8.3f} Å\")\n",
    "print(f\"b     = {b: 8.3f} Å\")\n",
    "print(f\"gamma = {gamma: 8.3f} degrees\")\n",
    "  "
   ]
  },
  {
   "cell_type": "code",
   "execution_count": null,
   "metadata": {},
   "outputs": [],
   "source": [
    "def sind(angle_degrees):\n",
    "    \"\"\"sine in degrees\"\"\"  #python \"\"\" string to document functions\n",
    "    angle_radians = np.deg2rad(angle_degrees)\n",
    "    return np.sin(angle_radians)\n",
    "\n",
    "def cosd(angle_degrees):\n",
    "    \"\"\"cosine in degrees\"\"\"\n",
    "    angle_radians = np.deg2rad(angle_degrees)\n",
    "    return np.cos(angle_radians)\n",
    "\n",
    "\n",
    "def initial_axis():\n",
    "    \"\"\"prints the unit cell with a axis red, b axis green, c axis blue\"\"\"\n",
    "    fig = plt.figure()\n",
    "    ax = fig.add_subplot(111, projection='3d')\n",
    "    \n",
    "    # makes sure that projection is not perspective, but orthogonal\n",
    "    ax.set_proj_type('ortho')\n",
    "    \n",
    "    # defines the aspect of the axes in figure space to be equal\n",
    "    ax.set_box_aspect(aspect = (1,1,1))\n",
    "    \n",
    "    # comment to add grid lines\n",
    "    ax.axis('off')\n",
    "    \n",
    "    # Student: To add third dimension here\n",
    "    ax.plot(outline_cartesian[0], outline_cartesian[1],'k',linewidth=.5)    # plots black outline of cell\n",
    "    ax.plot(outline_red_cartesian[0], outline_red_cartesian[1],'r',linewidth=3)  #plots a axis red\n",
    "    # ax.plot(outline_green_cartesian[0], outline_green_cartesian[1],'g',linewidth=3)  #plots b axis green\n",
    "    # ax.plot(outline_blue_cartesian[0], outline_blue_cartesian[1],  'b', linewidth=3)  #plots c axis blue\n",
    "    return ax"
   ]
  },
  {
   "cell_type": "code",
   "execution_count": null,
   "metadata": {},
   "outputs": [],
   "source": [
    "# Create conversion to cartesian matrix from crystallographic parameters a, b, c and angles alpha, beta, gamma\n",
    "\n",
    "conversion_to_cartesian = np.array([\n",
    "       [a, b*cosd(gamma)],\n",
    "       [0, b*sind(gamma)]\n",
    "    ])\n",
    "\n",
    "#print(conversion_to_cartesian)"
   ]
  },
  {
   "cell_type": "code",
   "execution_count": null,
   "metadata": {},
   "outputs": [],
   "source": [
    "# 3 dimensional outline represented by a 3 * 16 matrix\n",
    "outline = np.array(\n",
    "    [\n",
    "        [0, 0, 1],\n",
    "        [1, 0, 0]\n",
    "    ]\n",
    ")\n",
    "\n",
    "outline_cartesian = np.dot(conversion_to_cartesian, outline)\n",
    "\n",
    "# Color a axis red\n",
    "outline_red = np.array(\n",
    "    [\n",
    "        [ 0, 1], # note comma between lists [], []\n",
    "        [ 0, 0]\n",
    "    ]\n",
    ")\n",
    "\n",
    "outline_red_cartesian = np.dot(conversion_to_cartesian, outline_red)\n",
    "\n",
    "# Color b axis green\n",
    "\n",
    "# Color c axis blue\n"
   ]
  },
  {
   "cell_type": "code",
   "execution_count": null,
   "metadata": {},
   "outputs": [],
   "source": [
    "ax = initial_axis()\n",
    "\n",
    "ax.set_xlim(-5,15)\n",
    "ax.set_ylim(-5,15)\n",
    "ax.set_zlim(-5,15)\n",
    "plt.show()\n"
   ]
  }
 ],
 "metadata": {
  "kernelspec": {
   "display_name": "Python 3 (ipykernel)",
   "language": "python",
   "name": "python3"
  },
  "language_info": {
   "codemirror_mode": {
    "name": "ipython",
    "version": 3
   },
   "file_extension": ".py",
   "mimetype": "text/x-python",
   "name": "python",
   "nbconvert_exporter": "python",
   "pygments_lexer": "ipython3",
   "version": "3.9.12"
  }
 },
 "nbformat": 4,
 "nbformat_minor": 2
}
