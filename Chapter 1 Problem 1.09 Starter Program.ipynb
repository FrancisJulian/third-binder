{
 "cells": [
  {
   "cell_type": "markdown",
   "metadata": {},
   "source": [
    "## Chapter 1 Problem 1.09: Starter Program\n",
    "### Hexamethlbenzene $C_{12}H_{18}$ Unit Cell \n",
    "\n",
    "#### From: M. Julian, [*Foundations of Crystallography with Computer Applications Third Edition*](https://www.crcpress.com/Foundations-of-Crystallography-with-Computer-Applications/Julian/p/book/9781466552913). CRC Press, Taylor & Francis, Boca Raton\n",
    "\n",
    "#### Install Anaconda version 3 dated 2022-05\n",
    "\n",
    " - Install [Anaconda] version 3 dated 2022-05 by using a search engine to find \"Anaconda archive download\" or ([download here](https://repo.anaconda.com/archive/)).  As of August, 2022, this is the current download on the main screen.\n",
    "     - Make sure version has a __3__ after the word Anaconda\n",
    "     - Pick correct file for your operating system\n",
    "     - For example, Windows 64 bit version is: Anaconda3-2022.05-Windows-x86_64.exe\n",
    " - Reboot machine\n",
    " \n",
    " \n",
    "#### Run Jupyter notebooks\n",
    " - Close any other browsers (like Chrome, Internet Explorer)\n",
    " - Start [Jupyter notebook](https://jupyter.org) ([tutorial](https://medium.com/codingthesmartway-com-blog/getting-started-with-jupyter-notebook-for-python-4e7082bd5d46))\n",
    " - A web server will open (a black screen with text)\n",
    " - Default browser will open with web address pointed to your local web server\n",
    " - In open Jupyter notebook, select menu item Cell | Run All. (Find the menu item Cell in the menu bar below the word Jupyter)\n",
    " \n",
    "#### How to change this program\n",
    " - Make appropriate changes in the program\n",
    " - Save the program by going to SAVE icon at top of page\n",
    " - Run program by going to RUN icon at top of page \n",
    " \n",
    "#### See the end of this notebook for more Python hints\n",
    "\n",
    "#### References: \n",
    " - [K. Lonsdale, X-ray evidence of the Structure of the Benzene Nucleus](https://pubs.rsc.org/en/content/articlelanding/1929/tf/tf9292500352#!divAbstract)\n"
   ]
  },
  {
   "cell_type": "code",
   "execution_count": null,
   "metadata": {},
   "outputs": [],
   "source": [
    "# Stop program if older version of Python is installed\n",
    "import sys\n",
    "assert sys.version_info >= (3, 9, 12), \"Programs tested for Python 3.9.12\"\n",
    "print(sys.version_info)\n",
    "\n"
   ]
  },
  {
   "cell_type": "code",
   "execution_count": null,
   "metadata": {},
   "outputs": [],
   "source": [
    "# Import NumPy matrix library\n",
    "#   \"as np\" is a short cut so instead of typing numpy.array we can now get the same function as np.array\n",
    "import numpy as np           \n",
    "\n",
    "# Import plotting library as plt\n",
    "import matplotlib.pyplot as plt \n",
    "np.set_printoptions(precision=4, suppress=True) # suppress means numbers close to zero printed as zero "
   ]
  },
  {
   "cell_type": "code",
   "execution_count": null,
   "metadata": {},
   "outputs": [],
   "source": [
    "a = 9.010               # Crystallographic a axis (Å, angstroms)\n",
    "b = 8.926               # Crystallographic b axis (Å, angstroms)\n",
    "gamma = 119 + 34/60     # Angle between a and b  (degrees)\n",
    "\n",
    "\n",
    "# f\"a string {variable}\" prints formatted text with variables inside curly braces {}\n",
    "# : 8.3f  space means left padded with space, 8 characters total width (including .), 3 decimals after periods\n",
    "print(f\"a     = {a: 8.3f} Å\")\n",
    "print(f\"b     = {b: 8.3f} Å\")\n",
    "print(f\"gamma = {gamma: 8.3f} degrees\")"
   ]
  },
  {
   "cell_type": "code",
   "execution_count": null,
   "metadata": {},
   "outputs": [],
   "source": [
    "# Student: complete unit cell (see Figure 1.20, p. 19)\n",
    "\n",
    "# np.array is a function from the NumPy library used to create matrices\n",
    "# class np.matrix is deprecated\n",
    "# note commas between numbers in the list as in [0, 1, 1, 0, 0]\n",
    "\n",
    "# shape of matrix is 2 * 5 matrix (2 rows, 5 columns)\n",
    "outline = np.array(\n",
    "    [\n",
    "        [0, 0, 1], # note comma between lists [], []\n",
    "        [1, 0, 0]\n",
    "    ]\n",
    ")\n",
    "\n",
    "print(\"outline =\")\n",
    "print(outline)\n",
    "print(\"shape = \", outline.shape)\n",
    "print(\"number of dimensions = \", outline.ndim)\n"
   ]
  },
  {
   "cell_type": "code",
   "execution_count": null,
   "metadata": {},
   "outputs": [],
   "source": [
    "# Pythonic variable names have _ between words\n",
    "gamma_radians = np.deg2rad(gamma)\n",
    "print(gamma_radians)"
   ]
  },
  {
   "cell_type": "code",
   "execution_count": null,
   "metadata": {},
   "outputs": [],
   "source": [
    "# Note: we use np.sin here, not math.sin\n",
    "\n",
    "conversion_to_cartesian = np.array(\n",
    "   [\n",
    "      [a, b * np.cos(gamma_radians)],\n",
    "      [0, b * np.sin(gamma_radians)]\n",
    "   ]\n",
    ")\n",
    "print(conversion_to_cartesian)"
   ]
  },
  {
   "cell_type": "code",
   "execution_count": null,
   "metadata": {},
   "outputs": [],
   "source": [
    "# Dot product between matrices\n",
    "outline_cartesian = np.dot(conversion_to_cartesian, outline)\n",
    "\n",
    "print(outline_cartesian)"
   ]
  },
  {
   "cell_type": "code",
   "execution_count": null,
   "metadata": {},
   "outputs": [],
   "source": [
    "# Pull out x, y vectors for display\n",
    "\n",
    "x = outline_cartesian[0]  # Python is 0-based, so first row is 0, second row is 1\n",
    "y = outline_cartesian[1]\n",
    "\n",
    "print('x', x)\n",
    "print('y', y)   "
   ]
  },
  {
   "cell_type": "code",
   "execution_count": null,
   "metadata": {},
   "outputs": [],
   "source": [
    "plt.axis('equal') \n",
    "plt.plot(outline_cartesian[0], outline_cartesian[1],'k',linewidth=.5) \n",
    "\n",
    "plt.show()"
   ]
  },
  {
   "cell_type": "code",
   "execution_count": null,
   "metadata": {},
   "outputs": [],
   "source": [
    "# Draw outline of cell in black\n",
    "plt.axis('equal')\n",
    "plt.axis('off') # Remove Cartesian axes\n",
    "plt.plot(outline_cartesian[0], outline_cartesian[1],'k',linewidth=.5)\n",
    "\n",
    "# Color a axis red\n",
    "outline_red = np.array(\n",
    "    [\n",
    "        [ 0, 1], # Note comma between lists [], []\n",
    "        [ 0, 0]\n",
    "    ]\n",
    ")\n",
    "\n",
    "outline_red_cartesian = np.dot(conversion_to_cartesian, outline_red)\n",
    "  \n",
    "plt.plot(outline_red_cartesian[0], outline_red_cartesian[1],'r')\n",
    "\n",
    "# Color b axis green\n",
    "#\n",
    "#\n",
    "# Student show code for coloring b axis green here\n",
    "#\n",
    "#\n",
    "# This function goes last\n",
    "plt.show()\n"
   ]
  },
  {
   "cell_type": "markdown",
   "metadata": {},
   "source": [
    "### Python Hints\n",
    "\n",
    "\n",
    " \n",
    "#### Resources:\n",
    " - [NumPy matrix library](http://www.numpy.org)\n",
    " - [Matplotlib plotting library](http://matplotlib.org)\n",
    " - [Kaggle -- good collection of Jupyter notebooks and tutorials](www.kaggle.com)\n",
    " - [MATLAB to NumPy](http://docs.scipy.org/doc/numpy-1.13.0/user/numpy-for-matlab-users.html)\n",
    " - [Python 3](https://www.python.org/)\n",
    "\n",
    "#### Debugging hints:\n",
    " - search in your favorite browser, for example \"numpy sin\" or the error message because almost always someone else has had the same problem\n",
    " - highly recommend: programmer question site [Stackoverflow](stackoverflow.com)\n",
    "\n",
    "#### Books:\n",
    " - [Barry, P. Head First Python, 2nd Edition](https://www.oreilly.com/library/view/head-first-python/9781491919521/) -- Good first introduction to Python\n",
    " \n",
    " - [VanderPlas, J., Python Data Science Handbook: Essential Tools for Working with Data](http://shop.oreilly.com/product/0636920034919.do) -- Good detailed introduction to NumPy and MatPlotLib libraries\n",
    "\n",
    "\n"
   ]
  }
 ],
 "metadata": {
  "kernelspec": {
   "display_name": "Python 3 (ipykernel)",
   "language": "python",
   "name": "python3"
  },
  "language_info": {
   "codemirror_mode": {
    "name": "ipython",
    "version": 3
   },
   "file_extension": ".py",
   "mimetype": "text/x-python",
   "name": "python",
   "nbconvert_exporter": "python",
   "pygments_lexer": "ipython3",
   "version": "3.9.12"
  }
 },
 "nbformat": 4,
 "nbformat_minor": 2
}
